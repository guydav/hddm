{
 "cells": [
  {
   "cell_type": "code",
   "execution_count": 1,
   "metadata": {
    "collapsed": true
   },
   "outputs": [],
   "source": [
    "%matplotlib inline"
   ]
  },
  {
   "cell_type": "code",
   "execution_count": 2,
   "metadata": {},
   "outputs": [
    {
     "name": "stderr",
     "output_type": "stream",
     "text": [
      "/Users/guydavidson/anaconda/envs/python27/lib/python2.7/site-packages/IPython/parallel.py:13: ShimWarning: The `IPython.parallel` package has been deprecated since IPython 4.0. You should import from ipyparallel instead.\n",
      "  \"You should import from ipyparallel instead.\", ShimWarning)\n"
     ]
    }
   ],
   "source": [
    "import hddm\n",
    "import pandas as pd\n",
    "import numpy as np\n",
    "import matplotlib\n",
    "import matplotlib.pyplot as plt"
   ]
  },
  {
   "cell_type": "code",
   "execution_count": 3,
   "metadata": {},
   "outputs": [
    {
     "data": {
      "text/html": [
       "<div>\n",
       "<style scoped>\n",
       "    .dataframe tbody tr th:only-of-type {\n",
       "        vertical-align: middle;\n",
       "    }\n",
       "\n",
       "    .dataframe tbody tr th {\n",
       "        vertical-align: top;\n",
       "    }\n",
       "\n",
       "    .dataframe thead th {\n",
       "        text-align: right;\n",
       "    }\n",
       "</style>\n",
       "<table border=\"1\" class=\"dataframe\">\n",
       "  <thead>\n",
       "    <tr style=\"text-align: right;\">\n",
       "      <th></th>\n",
       "      <th>subj_idx</th>\n",
       "      <th>stim</th>\n",
       "      <th>rt</th>\n",
       "      <th>response</th>\n",
       "      <th>theta</th>\n",
       "      <th>dbs</th>\n",
       "      <th>conf</th>\n",
       "    </tr>\n",
       "  </thead>\n",
       "  <tbody>\n",
       "    <tr>\n",
       "      <th>0</th>\n",
       "      <td>0</td>\n",
       "      <td>LL</td>\n",
       "      <td>1.210</td>\n",
       "      <td>1.0</td>\n",
       "      <td>0.656275</td>\n",
       "      <td>1</td>\n",
       "      <td>HC</td>\n",
       "    </tr>\n",
       "    <tr>\n",
       "      <th>1</th>\n",
       "      <td>0</td>\n",
       "      <td>WL</td>\n",
       "      <td>1.630</td>\n",
       "      <td>1.0</td>\n",
       "      <td>-0.327889</td>\n",
       "      <td>1</td>\n",
       "      <td>LC</td>\n",
       "    </tr>\n",
       "    <tr>\n",
       "      <th>2</th>\n",
       "      <td>0</td>\n",
       "      <td>WW</td>\n",
       "      <td>1.030</td>\n",
       "      <td>1.0</td>\n",
       "      <td>-0.480285</td>\n",
       "      <td>1</td>\n",
       "      <td>HC</td>\n",
       "    </tr>\n",
       "    <tr>\n",
       "      <th>3</th>\n",
       "      <td>0</td>\n",
       "      <td>WL</td>\n",
       "      <td>2.770</td>\n",
       "      <td>1.0</td>\n",
       "      <td>1.927427</td>\n",
       "      <td>1</td>\n",
       "      <td>LC</td>\n",
       "    </tr>\n",
       "    <tr>\n",
       "      <th>4</th>\n",
       "      <td>0</td>\n",
       "      <td>WW</td>\n",
       "      <td>1.140</td>\n",
       "      <td>0.0</td>\n",
       "      <td>-0.213236</td>\n",
       "      <td>1</td>\n",
       "      <td>HC</td>\n",
       "    </tr>\n",
       "    <tr>\n",
       "      <th>5</th>\n",
       "      <td>0</td>\n",
       "      <td>WL</td>\n",
       "      <td>1.150</td>\n",
       "      <td>1.0</td>\n",
       "      <td>-0.436204</td>\n",
       "      <td>1</td>\n",
       "      <td>LC</td>\n",
       "    </tr>\n",
       "    <tr>\n",
       "      <th>6</th>\n",
       "      <td>0</td>\n",
       "      <td>LL</td>\n",
       "      <td>2.000</td>\n",
       "      <td>1.0</td>\n",
       "      <td>-0.274479</td>\n",
       "      <td>1</td>\n",
       "      <td>HC</td>\n",
       "    </tr>\n",
       "    <tr>\n",
       "      <th>7</th>\n",
       "      <td>0</td>\n",
       "      <td>WL</td>\n",
       "      <td>1.040</td>\n",
       "      <td>0.0</td>\n",
       "      <td>0.666957</td>\n",
       "      <td>1</td>\n",
       "      <td>LC</td>\n",
       "    </tr>\n",
       "    <tr>\n",
       "      <th>8</th>\n",
       "      <td>0</td>\n",
       "      <td>WW</td>\n",
       "      <td>0.857</td>\n",
       "      <td>1.0</td>\n",
       "      <td>0.118617</td>\n",
       "      <td>1</td>\n",
       "      <td>HC</td>\n",
       "    </tr>\n",
       "    <tr>\n",
       "      <th>9</th>\n",
       "      <td>0</td>\n",
       "      <td>WL</td>\n",
       "      <td>1.500</td>\n",
       "      <td>0.0</td>\n",
       "      <td>0.823626</td>\n",
       "      <td>1</td>\n",
       "      <td>LC</td>\n",
       "    </tr>\n",
       "  </tbody>\n",
       "</table>\n",
       "</div>"
      ],
      "text/plain": [
       "   subj_idx stim     rt  response     theta  dbs conf\n",
       "0         0   LL  1.210       1.0  0.656275    1   HC\n",
       "1         0   WL  1.630       1.0 -0.327889    1   LC\n",
       "2         0   WW  1.030       1.0 -0.480285    1   HC\n",
       "3         0   WL  2.770       1.0  1.927427    1   LC\n",
       "4         0   WW  1.140       0.0 -0.213236    1   HC\n",
       "5         0   WL  1.150       1.0 -0.436204    1   LC\n",
       "6         0   LL  2.000       1.0 -0.274479    1   HC\n",
       "7         0   WL  1.040       0.0  0.666957    1   LC\n",
       "8         0   WW  0.857       1.0  0.118617    1   HC\n",
       "9         0   WL  1.500       0.0  0.823626    1   LC"
      ]
     },
     "execution_count": 3,
     "metadata": {},
     "output_type": "execute_result"
    }
   ],
   "source": [
    "data = hddm.load_csv('./data/cavanagh_theta_nn.csv')\n",
    "data.head(10)"
   ]
  },
  {
   "cell_type": "code",
   "execution_count": 5,
   "metadata": {},
   "outputs": [
    {
     "name": "stdout",
     "output_type": "stream",
     "text": [
      " [-----------------100%-----------------] 2000 of 2000 complete in 170.7 sec"
     ]
    },
    {
     "data": {
      "text/plain": [
       "<pymc.MCMC.MCMC at 0x118b0c890>"
      ]
     },
     "execution_count": 5,
     "metadata": {},
     "output_type": "execute_result"
    }
   ],
   "source": [
    "m = hddm.HDDM(data, p_outlier=.05)\n",
    "m.find_starting_values()\n",
    "m.sample(2000, burn=500)"
   ]
  },
  {
   "cell_type": "code",
   "execution_count": 8,
   "metadata": {},
   "outputs": [
    {
     "data": {
      "text/html": [
       "<div>\n",
       "<style scoped>\n",
       "    .dataframe tbody tr th:only-of-type {\n",
       "        vertical-align: middle;\n",
       "    }\n",
       "\n",
       "    .dataframe tbody tr th {\n",
       "        vertical-align: top;\n",
       "    }\n",
       "\n",
       "    .dataframe thead th {\n",
       "        text-align: right;\n",
       "    }\n",
       "</style>\n",
       "<table border=\"1\" class=\"dataframe\">\n",
       "  <thead>\n",
       "    <tr style=\"text-align: right;\">\n",
       "      <th></th>\n",
       "      <th>mean</th>\n",
       "      <th>std</th>\n",
       "      <th>2.5q</th>\n",
       "      <th>25q</th>\n",
       "      <th>50q</th>\n",
       "      <th>75q</th>\n",
       "      <th>97.5q</th>\n",
       "      <th>mc err</th>\n",
       "    </tr>\n",
       "  </thead>\n",
       "  <tbody>\n",
       "    <tr>\n",
       "      <th>a</th>\n",
       "      <td>1.97855</td>\n",
       "      <td>0.0953079</td>\n",
       "      <td>1.79781</td>\n",
       "      <td>1.91804</td>\n",
       "      <td>1.97479</td>\n",
       "      <td>2.03679</td>\n",
       "      <td>2.17862</td>\n",
       "      <td>0.00272592</td>\n",
       "    </tr>\n",
       "    <tr>\n",
       "      <th>a_std</th>\n",
       "      <td>0.341118</td>\n",
       "      <td>0.0799498</td>\n",
       "      <td>0.222291</td>\n",
       "      <td>0.285152</td>\n",
       "      <td>0.327984</td>\n",
       "      <td>0.38075</td>\n",
       "      <td>0.538632</td>\n",
       "      <td>0.00307189</td>\n",
       "    </tr>\n",
       "    <tr>\n",
       "      <th>a_subj.0</th>\n",
       "      <td>2.19741</td>\n",
       "      <td>0.0650053</td>\n",
       "      <td>2.07588</td>\n",
       "      <td>2.1513</td>\n",
       "      <td>2.19417</td>\n",
       "      <td>2.24269</td>\n",
       "      <td>2.32382</td>\n",
       "      <td>0.00237404</td>\n",
       "    </tr>\n",
       "    <tr>\n",
       "      <th>a_subj.1</th>\n",
       "      <td>2.11894</td>\n",
       "      <td>0.067881</td>\n",
       "      <td>1.98616</td>\n",
       "      <td>2.07262</td>\n",
       "      <td>2.11773</td>\n",
       "      <td>2.16325</td>\n",
       "      <td>2.25461</td>\n",
       "      <td>0.00247734</td>\n",
       "    </tr>\n",
       "  </tbody>\n",
       "</table>\n",
       "</div>"
      ],
      "text/plain": [
       "              mean        std      2.5q       25q       50q      75q  \\\n",
       "a          1.97855  0.0953079   1.79781   1.91804   1.97479  2.03679   \n",
       "a_std     0.341118  0.0799498  0.222291  0.285152  0.327984  0.38075   \n",
       "a_subj.0   2.19741  0.0650053   2.07588    2.1513   2.19417  2.24269   \n",
       "a_subj.1   2.11894   0.067881   1.98616   2.07262   2.11773  2.16325   \n",
       "\n",
       "             97.5q      mc err  \n",
       "a          2.17862  0.00272592  \n",
       "a_std     0.538632  0.00307189  \n",
       "a_subj.0   2.32382  0.00237404  \n",
       "a_subj.1   2.25461  0.00247734  "
      ]
     },
     "execution_count": 8,
     "metadata": {},
     "output_type": "execute_result"
    }
   ],
   "source": [
    "stats = m.gen_stats()\n",
    "stats[stats.index.isin(['a', 'a_std', 'a_subj.0', 'a_subj.1'])]"
   ]
  },
  {
   "cell_type": "code",
   "execution_count": null,
   "metadata": {
    "collapsed": true
   },
   "outputs": [],
   "source": []
  }
 ],
 "metadata": {
  "kernelspec": {
   "display_name": "Python 2",
   "language": "python",
   "name": "python2"
  },
  "language_info": {
   "codemirror_mode": {
    "name": "ipython",
    "version": 2
   },
   "file_extension": ".py",
   "mimetype": "text/x-python",
   "name": "python",
   "nbconvert_exporter": "python",
   "pygments_lexer": "ipython2",
   "version": "2.7.13"
  }
 },
 "nbformat": 4,
 "nbformat_minor": 2
}
